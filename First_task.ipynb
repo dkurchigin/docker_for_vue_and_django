{
 "cells": [
  {
   "cell_type": "code",
   "execution_count": 1,
   "id": "2fd882f5-6135-45e9-9107-63550269e925",
   "metadata": {},
   "outputs": [],
   "source": [
    "from OSMPythonTools.nominatim import Nominatim\n",
    "import folium\n",
    "from openrouteservice import client\n",
    "import pandas as pd\n",
    "import json"
   ]
  },
  {
   "cell_type": "code",
   "execution_count": 6,
   "id": "b6b12270-41aa-4dc0-89cd-c50270d1d9a9",
   "metadata": {},
   "outputs": [
    {
     "name": "stdout",
     "output_type": "stream",
     "text": [
      "Have all places\n",
      "Map saved as map_first.html\n",
      "All places saved to data.json\n"
     ]
    }
   ],
   "source": [
    "def get_coordinates_by_city(place='Krasnodar, Russia'):\n",
    "    nominatim = Nominatim()\n",
    "    area_result = nominatim.query(place)\n",
    "    area_result_json = area_result.toJSON()[0]\n",
    "    area_lat = area_result_json['lat']\n",
    "    area_lon = area_result_json['lon']\n",
    "    return float(area_lon), float(area_lat)\n",
    "\n",
    "\n",
    "def calc_central_point(coords):\n",
    "    df = pd.DataFrame(coords, columns=['lon', 'lat'])\n",
    "    return df[\"lon\"].mean(), df[\"lat\"].mean()\n",
    "\n",
    "\n",
    "def draw_map(objects, coords):\n",
    "    map1 = folium.Map(location=([coords[1], coords[0]]), zoom_start=12)\n",
    "\n",
    "    for one_object in objects:\n",
    "        points = one_object['geometry']['coordinates']\n",
    "        folium.map.Marker(list(reversed(points)),\n",
    "                          ).add_to(map1)\n",
    "\n",
    "    map1.save('map_first.html')\n",
    "\n",
    "\n",
    "coordinates = get_coordinates_by_city()\n",
    "api_key = '5b3ce3597851110001cf6248652dfe598d584944bfd36172e4f6aeb3'\n",
    "params_poi = {'request': 'pois',\n",
    "              'geojson': {'type': 'point', 'coordinates': list(coordinates)},\n",
    "              'sortby': 'distance',\n",
    "              'buffer': 1500,\n",
    "              'filter_category_ids': [280]}\n",
    "\n",
    "clnt = client.Client(key=api_key)\n",
    "all_places = clnt.places(**params_poi)[0]['features']\n",
    "print('Have all places')\n",
    "draw_map(all_places, coordinates)\n",
    "print('Map saved as map_first.html')\n",
    "\n",
    "with open('data.json', 'w') as fh:\n",
    "    fh.writelines(json.dumps(all_places))\n",
    "print('All places saved to data.json')"
   ]
  },
  {
   "cell_type": "code",
   "execution_count": null,
   "id": "15554c17-0790-4f41-be73-45be5339d9cf",
   "metadata": {},
   "outputs": [],
   "source": []
  }
 ],
 "metadata": {
  "kernelspec": {
   "display_name": "Python 3",
   "language": "python",
   "name": "python3"
  },
  "language_info": {
   "codemirror_mode": {
    "name": "ipython",
    "version": 3
   },
   "file_extension": ".py",
   "mimetype": "text/x-python",
   "name": "python",
   "nbconvert_exporter": "python",
   "pygments_lexer": "ipython3",
   "version": "3.8.0"
  }
 },
 "nbformat": 4,
 "nbformat_minor": 5
}
